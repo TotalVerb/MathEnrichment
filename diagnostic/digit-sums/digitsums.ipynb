{
 "cells": [
  {
   "cell_type": "markdown",
   "metadata": {},
   "source": [
    "# Properties of Digit Sums\n",
    "\n",
    "This notebook is known to be compatible with Julia 0.5. A basic foreknowledge of induction and mathematical proof will enrich your experience.\n",
    "\n",
    "How would you check for divisibility by $3$ or $9$? You might know the trick. A number is divisible by $3$ if and only if the sum of its digits is divisible by $3$, and a number is divisible by $9$ if and only if the sum of its digits is divisible by $9$.\n",
    "\n",
    "Why does this trick work? In this notebook, we'll look at some computational evidence, and then talk a bit about modular arithmetic, a computational strategy that we can use to prove these results.\n",
    "\n",
    "## What is a digit sum?\n",
    "\n",
    "Hold on. What do we mean by digit sum? Let's define the concept mathematically. Let $n$ be a positive whole number with base-$10$ representation $d_id_{i-1}d_{i-2}\\dots d_3d_2d_1$, where all the $d_1$ are digits from $0$ to $9$, and we take the convention that $d_i\\ne 0$. Then define the _sum of digits_ of $n$, denoted by $\\operatorname{s}(n)$, as follows:\n",
    "\n",
    "\\begin{equation}\n",
    "\\operatorname{s}(n) = \\sum_{k=1}^i d_k\n",
    "\\end{equation}\n",
    "\n",
    "Why do we define the digits in reverse? That will make expressing $n$ as a sum of powers of $10$ easier. In fact, recall the definition of the base-$10$ system:\n",
    "\n",
    "\\begin{equation}\n",
    "n = \\sum_{k=1}^i d_k \\cdot 10^{k-1}\n",
    "\\end{equation}\n",
    "\n",
    "## How do I calculate it?\n",
    "\n",
    "Let's first see how to extract the digits of a number, say, $1997$."
   ]
  },
  {
   "cell_type": "code",
   "execution_count": 1,
   "metadata": {
    "collapsed": false
   },
   "outputs": [
    {
     "data": {
      "text/plain": [
       "4-element Array{Int64,1}:\n",
       " 7\n",
       " 9\n",
       " 9\n",
       " 1"
      ]
     },
     "execution_count": 1,
     "metadata": {},
     "output_type": "execute_result"
    }
   ],
   "source": [
    "digits(1997)"
   ]
  },
  {
   "cell_type": "markdown",
   "metadata": {},
   "source": [
    "Wow, that's incredibly convenient. These digits are in the order we want too, counting from the right. We can compute each individual digit easily too:"
   ]
  },
  {
   "cell_type": "code",
   "execution_count": 2,
   "metadata": {
    "collapsed": false
   },
   "outputs": [
    {
     "data": {
      "text/plain": [
       "1"
      ]
     },
     "execution_count": 2,
     "metadata": {},
     "output_type": "execute_result"
    }
   ],
   "source": [
    "d = digits(1997)\n",
    "d[4]"
   ]
  },
  {
   "cell_type": "markdown",
   "metadata": {},
   "source": [
    "If you are used to a zero-based indexed programming language, note that Julia indexes arrays starting at $1$. So the fourth digit (counting from the right) is $1$. So far so good. Now how can we compute the sum of the digits?"
   ]
  },
  {
   "cell_type": "code",
   "execution_count": 3,
   "metadata": {
    "collapsed": false
   },
   "outputs": [
    {
     "data": {
      "text/plain": [
       "26"
      ]
     },
     "execution_count": 3,
     "metadata": {},
     "output_type": "execute_result"
    }
   ],
   "source": [
    "sum(digits(1997))"
   ]
  },
  {
   "cell_type": "markdown",
   "metadata": {},
   "source": [
    "Doesn't get any easier than that! This syntax is so clean and descriptive that there is no point even making a helper function to compute it. Now that we have some syntax, let's verify the properties we alluded to initially. First, let's verify that a number is divisible by $9$ if and only if its sum of digits is divisible by $9$. To compute whether a number is divisible by $9$, we compute what it's remainder would be when divided by $9$, and check if it is zero. In Julia, the remainder operator is `%` (or the `rem` function), and the equality testing operator is `==`."
   ]
  },
  {
   "cell_type": "code",
   "execution_count": 4,
   "metadata": {
    "collapsed": false
   },
   "outputs": [
    {
     "data": {
      "text/plain": [
       "false"
      ]
     },
     "execution_count": 4,
     "metadata": {},
     "output_type": "execute_result"
    }
   ],
   "source": [
    "1997 % 9 == 0"
   ]
  },
  {
   "cell_type": "code",
   "execution_count": 5,
   "metadata": {
    "collapsed": false
   },
   "outputs": [
    {
     "data": {
      "text/plain": [
       "true"
      ]
     },
     "execution_count": 5,
     "metadata": {},
     "output_type": "execute_result"
    }
   ],
   "source": [
    "819 % 9 == 0"
   ]
  },
  {
   "cell_type": "markdown",
   "metadata": {},
   "source": [
    "Okay, so what numbers between $1$ and $1000$ are divisible by $9$? We can compute a vector of those numbers easily by using a `filter`. We want to find all elements $n$ in `1:1000` where `n % 9 == 0`. Here's how to write that in code:"
   ]
  },
  {
   "cell_type": "code",
   "execution_count": 6,
   "metadata": {
    "collapsed": false
   },
   "outputs": [
    {
     "data": {
      "text/plain": [
       "111-element Array{Int64,1}:\n",
       "   9\n",
       "  18\n",
       "  27\n",
       "  36\n",
       "  45\n",
       "  54\n",
       "  63\n",
       "  72\n",
       "  81\n",
       "  90\n",
       "  99\n",
       " 108\n",
       " 117\n",
       "   ⋮\n",
       " 900\n",
       " 909\n",
       " 918\n",
       " 927\n",
       " 936\n",
       " 945\n",
       " 954\n",
       " 963\n",
       " 972\n",
       " 981\n",
       " 990\n",
       " 999"
      ]
     },
     "execution_count": 6,
     "metadata": {},
     "output_type": "execute_result"
    }
   ],
   "source": [
    "A = filter(n -> n % 9 == 0, 1:1000)"
   ]
  },
  {
   "cell_type": "markdown",
   "metadata": {},
   "source": [
    "Now let's do the same computation, using the sum of digits as the divisibility test:"
   ]
  },
  {
   "cell_type": "code",
   "execution_count": 7,
   "metadata": {
    "collapsed": false
   },
   "outputs": [
    {
     "data": {
      "text/plain": [
       "111-element Array{Int64,1}:\n",
       "   9\n",
       "  18\n",
       "  27\n",
       "  36\n",
       "  45\n",
       "  54\n",
       "  63\n",
       "  72\n",
       "  81\n",
       "  90\n",
       "  99\n",
       " 108\n",
       " 117\n",
       "   ⋮\n",
       " 900\n",
       " 909\n",
       " 918\n",
       " 927\n",
       " 936\n",
       " 945\n",
       " 954\n",
       " 963\n",
       " 972\n",
       " 981\n",
       " 990\n",
       " 999"
      ]
     },
     "execution_count": 7,
     "metadata": {},
     "output_type": "execute_result"
    }
   ],
   "source": [
    "B = filter(n -> sum(digits(n)) % 9 == 0, 1:1000)"
   ]
  },
  {
   "cell_type": "code",
   "execution_count": 8,
   "metadata": {
    "collapsed": false
   },
   "outputs": [
    {
     "data": {
      "text/plain": [
       "true"
      ]
     },
     "execution_count": 8,
     "metadata": {},
     "output_type": "execute_result"
    }
   ],
   "source": [
    "A == B"
   ]
  },
  {
   "cell_type": "markdown",
   "metadata": {},
   "source": [
    "Success. We've computed the multiples of $9$ two ways, and both times we got the same result. But that's not a proof! **rest to come**"
   ]
  }
 ],
 "metadata": {
  "kernelspec": {
   "display_name": "Julia 0.5.0-dev",
   "language": "julia",
   "name": "julia-0.5"
  },
  "language_info": {
   "file_extension": ".jl",
   "mimetype": "application/julia",
   "name": "julia",
   "version": "0.5.0"
  }
 },
 "nbformat": 4,
 "nbformat_minor": 0
}
